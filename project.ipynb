{
 "cells": [
  {
   "cell_type": "code",
   "execution_count": null,
   "id": "1e0d20f8",
   "metadata": {},
   "outputs": [
    {
     "name": "stdout",
     "output_type": "stream",
     "text": [
      "\u001b[31mERROR: Could not find a version that satisfies the requirement git (from versions: none)\u001b[0m\u001b[31m\n",
      "\u001b[0m\u001b[31mERROR: No matching distribution found for git\u001b[0m\u001b[31m\n",
      "\u001b[0m"
     ]
    }
   ],
   "source": [
    "!pip install geopandas seaborn pandana folium matplotlib mapclassify osmnx fiona pyogrio --quiet"
   ]
  },
  {
   "cell_type": "code",
   "execution_count": 5,
   "id": "45576324",
   "metadata": {},
   "outputs": [],
   "source": [
    "#import packets\n",
    "import geopandas as gpd\n",
    "import pandas as pd\n",
    "import matplotlib.pyplot as plt\n",
    "import matplotlib.patches as mpatches\n",
    "import matplotlib.colors as mcolors\n",
    "import matplotlib.cm as cm\n",
    "import osmnx as ox\n",
    "import seaborn as sns\n",
    "import numpy as np\n",
    "from scipy.spatial import cKDTree\n",
    "from matplotlib.lines import Line2D\n",
    "import networkx as nx\n",
    "from shapely.geometry import Point\n",
    "import folium\n"
   ]
  },
  {
   "cell_type": "code",
   "execution_count": 10,
   "id": "48282713",
   "metadata": {},
   "outputs": [
    {
     "name": "stdout",
     "output_type": "stream",
     "text": [
      "Cloning into 'geospatial_analysis'...\n",
      "remote: Enumerating objects: 31, done.\u001b[K\n",
      "remote: Counting objects: 100% (31/31), done.\u001b[K\n",
      "remote: Compressing objects: 100% (28/28), done.\u001b[K\n",
      "remote: Total 31 (delta 7), reused 0 (delta 0), pack-reused 0 (from 0)\u001b[K\n",
      "Receiving objects: 100% (31/31), 498.00 KiB | 2.91 MiB/s, done.\n",
      "Resolving deltas: 100% (7/7), done.\n",
      "/home/cle01/geospatial_analysis/geospatial_analysis/data\n"
     ]
    },
    {
     "name": "stderr",
     "output_type": "stream",
     "text": [
      "/home/cle01/geospatial_analysis/.venv/lib/python3.10/site-packages/IPython/core/magics/osm.py:417: UserWarning: This is now an optional IPython functionality, setting dhist requires you to install the `pickleshare` library.\n",
      "  self.shell.db['dhist'] = compress_dhist(dhist)[-100:]\n"
     ]
    }
   ],
   "source": [
    "#clone the repository\n",
    "!git clone https://github.com/clelia-p/geospatial_analysis.git\n",
    "\n",
    "#change the working directory\n",
    "%cd geospatial_analysis/data"
   ]
  },
  {
   "cell_type": "code",
   "execution_count": 11,
   "id": "c384f809",
   "metadata": {},
   "outputs": [
    {
     "name": "stdout",
     "output_type": "stream",
     "text": [
      "/bin/bash: line 1: unzip: command not found\n",
      "/bin/bash: line 1: unzip: command not found\n",
      "/bin/bash: line 1: unzip: command not found\n",
      "/bin/bash: line 1: unzip: command not found\n"
     ]
    }
   ],
   "source": [
    "!unzip Rastrelliere.zip\n",
    "!unzip Punti_Noleggio_bici.zip\n",
    "!unzip Aree_pedonali.zip\n",
    "!unzip Aree_quartieri.zip"
   ]
  },
  {
   "cell_type": "code",
   "execution_count": 13,
   "id": "076fb970",
   "metadata": {},
   "outputs": [
    {
     "name": "stdout",
     "output_type": "stream",
     "text": [
      "[sudo] password for cle01: \n",
      "sudo: a password is required\n",
      "^C\n"
     ]
    }
   ],
   "source": [
    "!sudo apt install unzip -y\n"
   ]
  },
  {
   "cell_type": "code",
   "execution_count": 16,
   "id": "bef392a3",
   "metadata": {},
   "outputs": [
    {
     "name": "stdout",
     "output_type": "stream",
     "text": [
      "On branch main\n",
      "Your branch is up to date with 'origin/main'.\n",
      "\n",
      "nothing to commit, working tree clean\n",
      "Username for 'https://github.com': ^C\n"
     ]
    }
   ],
   "source": [
    "#commit the changes\n",
    "!git add .\n",
    "!git commit -m \"Add data files\"\n",
    "!git push origin main\n"
   ]
  },
  {
   "cell_type": "code",
   "execution_count": 15,
   "id": "842fb29d",
   "metadata": {},
   "outputs": [],
   "source": [
    "!git config --global user.email \"clelia.porcelluzzi@studenti.unitn.it\"\n",
    "!git config --global user.name \"clelia-p\""
   ]
  }
 ],
 "metadata": {
  "kernelspec": {
   "display_name": ".venv",
   "language": "python",
   "name": "python3"
  },
  "language_info": {
   "codemirror_mode": {
    "name": "ipython",
    "version": 3
   },
   "file_extension": ".py",
   "mimetype": "text/x-python",
   "name": "python",
   "nbconvert_exporter": "python",
   "pygments_lexer": "ipython3",
   "version": "3.10.12"
  }
 },
 "nbformat": 4,
 "nbformat_minor": 5
}
